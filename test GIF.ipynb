{
 "cells": [
  {
   "cell_type": "markdown",
   "metadata": {},
   "source": [
    "## GIF test\n",
    "###### 10 Febrary 2020 by MiniUFO\n",
    "\n",
    "---\n",
    "[TOC]\n",
    "\n",
    "---\n",
    "\n",
    "### 1. 测试本地和网络GIF\n",
    "\n",
    "This is a local test:\n",
    "![Local Test](1.gif \"Mouse over Text\")\n",
    "\n",
    "This is a online test:\n",
    "![Online Test](https://upload.wikimedia.org/wikipedia/commons/7/71/ChessPawnSpecialMoves.gif \"Mouse over Text\")\n"
   ]
  },
  {
   "cell_type": "code",
   "execution_count": 3,
   "metadata": {},
   "outputs": [
    {
     "name": "stdout",
     "output_type": "stream",
     "text": [
      "../../1.gif\n"
     ]
    }
   ],
   "source": [
    "!ls ../../1.gif"
   ]
  },
  {
   "cell_type": "markdown",
   "metadata": {},
   "source": [
    "#### References\n",
    "[https://xgcm.readthedocs.io/en/latest/api.html](https://xgcm.readthedocs.io/en/latest/api.html)"
   ]
  }
 ],
 "metadata": {
  "kernelspec": {
   "display_name": "Python 3",
   "language": "python",
   "name": "python3"
  },
  "language_info": {
   "codemirror_mode": {
    "name": "ipython",
    "version": 3
   },
   "file_extension": ".py",
   "mimetype": "text/x-python",
   "name": "python",
   "nbconvert_exporter": "python",
   "pygments_lexer": "ipython3",
   "version": "3.7.6"
  }
 },
 "nbformat": 4,
 "nbformat_minor": 2
}
