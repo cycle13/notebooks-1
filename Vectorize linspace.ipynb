{
 "cells": [
  {
   "cell_type": "markdown",
   "metadata": {},
   "source": [
    "## numpy.linspace的矢量化\n",
    "**30 January 2020 by MiniUFO**\n",
    "\n",
    "---\n",
    "[TOC]\n",
    "\n",
    "---\n",
    "\n",
    "### 1. 问题\n",
    "最近想用[python](https://www.python.org/)的[xarray](http://xarray.pydata.org/en/stable/)包来做等值线分析，中间发现一个问题，就是numpy的[```linspace(start, stop, num=50)```](https://docs.scipy.org/doc/numpy/reference/generated/numpy.linspace.html)函数尽然不支持矢量化的参数。例如当参数start和stop都是数值时，一切都很完美："
   ]
  },
  {
   "cell_type": "code",
   "execution_count": 25,
   "metadata": {},
   "outputs": [
    {
     "data": {
      "text/plain": [
       "array([0.  , 0.25, 0.5 , 0.75, 1.  ])"
      ]
     },
     "execution_count": 25,
     "metadata": {},
     "output_type": "execute_result"
    }
   ],
   "source": [
    "import numpy as np\n",
    "import numexpr as ne\n",
    "\n",
    "start = 0\n",
    "stop = 1\n",
    "N   = 5\n",
    "\n",
    "result = np.linspace(start, stop, N)\n",
    "result"
   ]
  },
  {
   "cell_type": "markdown",
   "metadata": {},
   "source": [
    "但是当参数是1D数组的时候（暂时不考虑高维数组），```linspace```就智障了："
   ]
  },
  {
   "cell_type": "code",
   "execution_count": 26,
   "metadata": {
    "scrolled": true
   },
   "outputs": [
    {
     "ename": "ValueError",
     "evalue": "The truth value of an array with more than one element is ambiguous. Use a.any() or a.all()",
     "output_type": "error",
     "traceback": [
      "\u001b[1;31m---------------------------------------------------------------------------\u001b[0m",
      "\u001b[1;31mValueError\u001b[0m                                Traceback (most recent call last)",
      "\u001b[1;32m<ipython-input-26-dd9d46b6cd4b>\u001b[0m in \u001b[0;36m<module>\u001b[1;34m\u001b[0m\n\u001b[0;32m      3\u001b[0m \u001b[0mN\u001b[0m   \u001b[1;33m=\u001b[0m \u001b[1;36m5\u001b[0m\u001b[1;33m\u001b[0m\u001b[1;33m\u001b[0m\u001b[0m\n\u001b[0;32m      4\u001b[0m \u001b[1;33m\u001b[0m\u001b[0m\n\u001b[1;32m----> 5\u001b[1;33m \u001b[0mresult\u001b[0m \u001b[1;33m=\u001b[0m \u001b[0mnp\u001b[0m\u001b[1;33m.\u001b[0m\u001b[0mlinspace\u001b[0m\u001b[1;33m(\u001b[0m\u001b[0mstart\u001b[0m\u001b[1;33m,\u001b[0m \u001b[0mstop\u001b[0m\u001b[1;33m,\u001b[0m \u001b[0mN\u001b[0m\u001b[1;33m)\u001b[0m\u001b[1;33m\u001b[0m\u001b[1;33m\u001b[0m\u001b[0m\n\u001b[0m",
      "\u001b[1;32m~\\AppData\\Roaming\\Python\\Python37\\site-packages\\numpy\\core\\function_base.py\u001b[0m in \u001b[0;36mlinspace\u001b[1;34m(start, stop, num, endpoint, retstep, dtype)\u001b[0m\n\u001b[0;32m    122\u001b[0m     \u001b[1;32mif\u001b[0m \u001b[0mnum\u001b[0m \u001b[1;33m>\u001b[0m \u001b[1;36m1\u001b[0m\u001b[1;33m:\u001b[0m\u001b[1;33m\u001b[0m\u001b[1;33m\u001b[0m\u001b[0m\n\u001b[0;32m    123\u001b[0m         \u001b[0mstep\u001b[0m \u001b[1;33m=\u001b[0m \u001b[0mdelta\u001b[0m \u001b[1;33m/\u001b[0m \u001b[0mdiv\u001b[0m\u001b[1;33m\u001b[0m\u001b[1;33m\u001b[0m\u001b[0m\n\u001b[1;32m--> 124\u001b[1;33m         \u001b[1;32mif\u001b[0m \u001b[0mstep\u001b[0m \u001b[1;33m==\u001b[0m \u001b[1;36m0\u001b[0m\u001b[1;33m:\u001b[0m\u001b[1;33m\u001b[0m\u001b[1;33m\u001b[0m\u001b[0m\n\u001b[0m\u001b[0;32m    125\u001b[0m             \u001b[1;31m# Special handling for denormal numbers, gh-5437\u001b[0m\u001b[1;33m\u001b[0m\u001b[1;33m\u001b[0m\u001b[1;33m\u001b[0m\u001b[0m\n\u001b[0;32m    126\u001b[0m             \u001b[0my\u001b[0m \u001b[1;33m/=\u001b[0m \u001b[0mdiv\u001b[0m\u001b[1;33m\u001b[0m\u001b[1;33m\u001b[0m\u001b[0m\n",
      "\u001b[1;31mValueError\u001b[0m: The truth value of an array with more than one element is ambiguous. Use a.any() or a.all()"
     ]
    }
   ],
   "source": [
    "start = np.array([0, 1, 2])\n",
    "stop = np.array([3, 4, 5])\n",
    "N   = 5\n",
    "\n",
    "result = np.linspace(start, stop, N)"
   ]
  },
  {
   "cell_type": "markdown",
   "metadata": {},
   "source": [
    "我希望结果是相当于调用三次```linspace```，分别是```linspace(0, 3, N)```，```linspace(1, 4, N)```，```linspace(2, 5, N)```，然后再合并(concat)成一个numpy array。结果居然出错。以我现有的智商水平无法理解它的错误提示。\n",
    "\n",
    "### 2. 解决方法\n",
    "搜索了一圈，果然很多人在**stack overflow**上提问了。下面整理了好几种解决方案（写这篇文章的时候```numpy```已经更新到```1.18.1```，```linspace```已经支持矢量化了，但是家里笔记本上还是```1.15.4```，说明在线更新太@!5%#...的重要了）："
   ]
  },
  {
   "cell_type": "code",
   "execution_count": 27,
   "metadata": {},
   "outputs": [
    {
     "name": "stdout",
     "output_type": "stream",
     "text": [
      "r1:\n",
      "[[0.   0.75 1.5  2.25 3.  ]\n",
      " [1.   1.75 2.5  3.25 4.  ]\n",
      " [2.   2.75 3.5  4.25 5.  ]]\n",
      "r2:\n",
      "[[0.   0.75 1.5  2.25 3.  ]\n",
      " [1.   1.75 2.5  3.25 4.  ]\n",
      " [2.   2.75 3.5  4.25 5.  ]]\n",
      "r3:\n",
      "[[0.   0.75 1.5  2.25 3.  ]\n",
      " [1.   1.75 2.5  3.25 4.  ]\n",
      " [2.   2.75 3.5  4.25 5.  ]]\n",
      "r4:\n",
      "[[0.   0.75 1.5  2.25 3.  ]\n",
      " [1.   1.75 2.5  3.25 4.  ]\n",
      " [2.   2.75 3.5  4.25 5.  ]]\n"
     ]
    }
   ],
   "source": [
    "def solution1(start, stop, N, endpoint=True):\n",
    "    if endpoint:\n",
    "        divisor = N-1\n",
    "    else:\n",
    "        divisor = N\n",
    "        \n",
    "    s0 = start[:,None]\n",
    "    s1 = stop [:,None]\n",
    "    r  = np.arange(N)\n",
    "    \n",
    "    return ne.evaluate('((1.0/divisor) * (s1 - s0))*r + s0')\n",
    "    \n",
    "def solution2(start, stop, N, endpoint=True):\n",
    "    if endpoint:\n",
    "        divisor = N-1\n",
    "    else:\n",
    "        divisor = N\n",
    "        \n",
    "    steps = (1.0 / divisor) * (stop - start)\n",
    "    return steps[:,None] * np.arange(N) + start[:,None]\n",
    "\n",
    "def solution3(start, stop, N):\n",
    "    return (np.linspace(0,1,N)[:,None] * (stop - start) + start).T\n",
    "\n",
    "def solution4(start, stop, N):\n",
    "    return np.array([np.linspace(i, j, N) for i,j in zip(start,stop)])\n",
    "\n",
    "r1 = solution1(start, stop, N)\n",
    "r2 = solution2(start, stop, N)\n",
    "r3 = solution3(start, stop, N)\n",
    "r4 = solution4(start, stop, N)\n",
    "\n",
    "print('r1:\\n' + str(r1))\n",
    "print('r2:\\n' + str(r2))\n",
    "print('r3:\\n' + str(r3))\n",
    "print('r4:\\n' + str(r4))"
   ]
  },
  {
   "cell_type": "markdown",
   "metadata": {},
   "source": [
    "结果完全一样，再看看性能："
   ]
  },
  {
   "cell_type": "code",
   "execution_count": 28,
   "metadata": {
    "scrolled": true
   },
   "outputs": [
    {
     "name": "stdout",
     "output_type": "stream",
     "text": [
      "184 µs ± 1.54 µs per loop (mean ± std. dev. of 7 runs, 10000 loops each)\n",
      "109 µs ± 1.02 µs per loop (mean ± std. dev. of 7 runs, 10000 loops each)\n",
      "362 µs ± 3.22 µs per loop (mean ± std. dev. of 7 runs, 1000 loops each)\n",
      "144 µs ± 2.77 µs per loop (mean ± std. dev. of 7 runs, 10000 loops each)\n"
     ]
    }
   ],
   "source": [
    "%timeit solution1(start, stop, 10000)\n",
    "%timeit solution2(start, stop, 10000)\n",
    "%timeit solution3(start, stop, 10000)\n",
    "%timeit solution4(start, stop, 10000)"
   ]
  },
  {
   "cell_type": "markdown",
   "metadata": {},
   "source": [
    "结果显示第二种方法最快，ok，就用这个函数来做矢量化的```linspace```。"
   ]
  },
  {
   "cell_type": "markdown",
   "metadata": {},
   "source": [
    "#### References:\n",
    "https://stackoverflow.com/questions/40624409/vectorized-numpy-linspace-for-multiple-start-and-stop-values/40624614#40624614\n",
    "https://stackoverflow.com/questions/16887148/python-linspace-limits-from-two-arrays/16887295#16887295"
   ]
  }
 ],
 "metadata": {
  "kernelspec": {
   "display_name": "Python 3",
   "language": "python",
   "name": "python3"
  },
  "language_info": {
   "codemirror_mode": {
    "name": "ipython",
    "version": 3
   },
   "file_extension": ".py",
   "mimetype": "text/x-python",
   "name": "python",
   "nbconvert_exporter": "python",
   "pygments_lexer": "ipython3",
   "version": "3.7.6"
  }
 },
 "nbformat": 4,
 "nbformat_minor": 2
}
